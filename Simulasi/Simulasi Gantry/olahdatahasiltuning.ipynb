{
 "cells": [
  {
   "cell_type": "code",
   "execution_count": 1,
   "metadata": {},
   "outputs": [],
   "source": [
    "import pandas as pd"
   ]
  },
  {
   "cell_type": "code",
   "execution_count": 5,
   "metadata": {},
   "outputs": [],
   "source": [
    "result_filename = \"Tuning_Simulation_Result.csv\"\n",
    "\n",
    "df = pd.read_csv(result_filename)\n",
    "\n",
    "df = df[df != -0.01].dropna()\n",
    "\n",
    "hasil_olah_result_result_filename = \"Hasil_Olah_\" + result_filename\n",
    "\n",
    "df.to_csv(hasil_olah_result_result_filename, index=False)\n",
    "\n"
   ]
  }
 ],
 "metadata": {
  "kernelspec": {
   "display_name": "Python 3",
   "language": "python",
   "name": "python3"
  },
  "language_info": {
   "codemirror_mode": {
    "name": "ipython",
    "version": 3
   },
   "file_extension": ".py",
   "mimetype": "text/x-python",
   "name": "python",
   "nbconvert_exporter": "python",
   "pygments_lexer": "ipython3",
   "version": "3.10.11"
  },
  "orig_nbformat": 4
 },
 "nbformat": 4,
 "nbformat_minor": 2
}
